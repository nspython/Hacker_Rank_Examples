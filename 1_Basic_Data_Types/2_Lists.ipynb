{
 "cells": [
  {
   "cell_type": "markdown",
   "metadata": {},
   "source": [
    "# Lists\n",
    "\n",
    "https://www.hackerrank.com/challenges/python-lists/problem"
   ]
  },
  {
   "cell_type": "code",
   "execution_count": 1,
   "metadata": {},
   "outputs": [
    {
     "name": "stdout",
     "output_type": "stream",
     "text": [
      "12\n",
      "insert 0 5\n",
      "insert 1 10\n",
      "insert 0 6\n",
      "print\n",
      "[6, 5, 10]\n",
      "remove 6\n",
      "append 9\n",
      "append 1\n",
      "sort\n",
      "print\n",
      "[1, 5, 9, 10]\n",
      "pop\n",
      "reverse\n",
      "print\n",
      "[9, 5, 1]\n"
     ]
    }
   ],
   "source": [
    "N = int(input())\n",
    "result = []\n",
    "for n in range(N):\n",
    "    x = input().split(\" \")\n",
    "    command = x[0]\n",
    "    if command == 'append':\n",
    "        result.append(int(x[1]))\n",
    "    if command == 'print':\n",
    "        print(result)\n",
    "    if command == 'insert':\n",
    "        result.insert(int(x[1]), int(x[2]))\n",
    "    if command == 'reverse':\n",
    "        result = result[::-1]\n",
    "    if command == 'pop':\n",
    "        result.pop()\n",
    "    if command == 'sort':\n",
    "        result = sorted(result)\n",
    "    if command == 'remove':\n",
    "        result.remove(int(x[1]))"
   ]
  },
  {
   "cell_type": "code",
   "execution_count": null,
   "metadata": {},
   "outputs": [],
   "source": []
  }
 ],
 "metadata": {
  "kernelspec": {
   "display_name": "Python 3",
   "language": "python",
   "name": "python3"
  },
  "language_info": {
   "codemirror_mode": {
    "name": "ipython",
    "version": 3
   },
   "file_extension": ".py",
   "mimetype": "text/x-python",
   "name": "python",
   "nbconvert_exporter": "python",
   "pygments_lexer": "ipython3",
   "version": "3.7.1"
  }
 },
 "nbformat": 4,
 "nbformat_minor": 2
}
