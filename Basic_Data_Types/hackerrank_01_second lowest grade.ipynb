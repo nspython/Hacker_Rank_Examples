{
 "cells": [
  {
   "cell_type": "markdown",
   "metadata": {},
   "source": [
    "# second lowest grade"
   ]
  },
  {
   "cell_type": "markdown",
   "metadata": {},
   "source": [
    "There are  students in this class whose names and grades are assembled to build the following list:\n",
    "\n",
    "python students = [['Harry', 37.21], ['Berry', 37.21], ['Tina', 37.2], ['Akriti', 41], ['Harsh', 39]]\n",
    "\n",
    "The lowest grade of  belongs to Tina. The second lowest grade of  belongs to both Harry and Berry, so we order their names alphabetically and print each name on a new line."
   ]
  },
  {
   "cell_type": "code",
   "execution_count": 3,
   "metadata": {},
   "outputs": [
    {
     "name": "stdout",
     "output_type": "stream",
     "text": [
      "How many students: 5\n",
      "Name: 'Harry'\n",
      "Score: 37.21\n",
      "Name: 'Berry'\n",
      "Score: 37.21\n",
      "Name: 'Tina'\n",
      "Score: 37.2\n",
      "Name: 'Akriti'\n",
      "Score: 41\n",
      "Name: 'Harsh'\n",
      "Score: 39\n",
      "\n",
      "'Berry'\n",
      "'Harry'\n"
     ]
    }
   ],
   "source": [
    "N = int(input(\"How many students: \"));\n",
    "mp = {};\n",
    "\n",
    "for i in range(0,N): \n",
    "    name = input(\"Name: \"); \n",
    "    score = float(input(\"Score: \")); \n",
    "    if score in mp: mp[score].append(name);\n",
    "    else: mp[score] = [name];\n",
    "\n",
    "print()\n",
    "ky = sorted(mp.keys())[1];\n",
    "\n",
    "for nm in sorted(mp[ky]): print (nm);"
   ]
  },
  {
   "cell_type": "code",
   "execution_count": 9,
   "metadata": {},
   "outputs": [
    {
     "name": "stdout",
     "output_type": "stream",
     "text": [
      "dfds\n",
      "343\n",
      "[]\n",
      "zxf\n",
      "343\n",
      "[]\n",
      "dsfs\n",
      "343\n",
      "[]\n",
      "[]\n"
     ]
    }
   ],
   "source": [
    "a = []\n",
    "\n",
    "for i in range(0,3): \n",
    "    name = input(); \n",
    "    score = float(input()); \n",
    "    if score in a: \n",
    "        a[score].append(name)\n",
    "        print(a)\n",
    "    print(a)\n",
    "        \n",
    "print(a)"
   ]
  },
  {
   "cell_type": "code",
   "execution_count": null,
   "metadata": {},
   "outputs": [],
   "source": []
  }
 ],
 "metadata": {
  "kernelspec": {
   "display_name": "Python 3",
   "language": "python",
   "name": "python3"
  },
  "language_info": {
   "codemirror_mode": {
    "name": "ipython",
    "version": 3
   },
   "file_extension": ".py",
   "mimetype": "text/x-python",
   "name": "python",
   "nbconvert_exporter": "python",
   "pygments_lexer": "ipython3",
   "version": "3.7.1"
  }
 },
 "nbformat": 4,
 "nbformat_minor": 2
}
