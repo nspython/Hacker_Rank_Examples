{
 "cells": [
  {
   "attachments": {},
   "cell_type": "markdown",
   "metadata": {},
   "source": [
    "# The Minion Game\n",
    "\n",
    "https://www.hackerrank.com/challenges/the-minion-game/problem"
   ]
  },
  {
   "cell_type": "code",
   "execution_count": 1,
   "metadata": {},
   "outputs": [
    {
     "name": "stdout",
     "output_type": "stream",
     "text": [
      "BANANA\n",
      "Stuart 12\n"
     ]
    }
   ],
   "source": [
    "def minion_game(string):\n",
    "    word = string.upper()\n",
    "\n",
    "    kevin_score = sum([len(word)-i for i in range(len(word)) if word[i] in set(\"AEOIU\")])\n",
    "    stuart_score = sum([len(word)-i for i in range(len(word)) if word[i] not in set(\"AEOIU\")])\n",
    "\n",
    "    if kevin_score > stuart_score:\n",
    "        print(\"Kevin\",kevin_score)\n",
    "    elif kevin_score < stuart_score:\n",
    "        print(\"Stuart\",stuart_score)\n",
    "    else:\n",
    "        print(\"Draw\")\n",
    "        \n",
    "\n",
    "if __name__ == '__main__':\n",
    "    s = input()\n",
    "    minion_game(s)"
   ]
  },
  {
   "cell_type": "code",
   "execution_count": null,
   "metadata": {},
   "outputs": [],
   "source": []
  },
  {
   "cell_type": "code",
   "execution_count": null,
   "metadata": {},
   "outputs": [],
   "source": []
  }
 ],
 "metadata": {
  "kernelspec": {
   "display_name": "Python 3",
   "language": "python",
   "name": "python3"
  },
  "language_info": {
   "codemirror_mode": {
    "name": "ipython",
    "version": 3
   },
   "file_extension": ".py",
   "mimetype": "text/x-python",
   "name": "python",
   "nbconvert_exporter": "python",
   "pygments_lexer": "ipython3",
   "version": "3.8.3"
  }
 },
 "nbformat": 4,
 "nbformat_minor": 2
}
