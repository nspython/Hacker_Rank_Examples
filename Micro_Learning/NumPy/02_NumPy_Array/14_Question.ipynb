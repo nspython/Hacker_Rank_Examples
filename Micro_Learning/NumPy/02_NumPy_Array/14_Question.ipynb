{
 "cells": [
  {
   "cell_type": "markdown",
   "metadata": {},
   "source": [
    "# 14_Question"
   ]
  },
  {
   "cell_type": "markdown",
   "metadata": {},
   "source": [
    "Write a NumPy program to convert the values of Centigrade (C) degrees into Fahrenheit (F) degrees. Centigrade values are stored into a NumPy array.\n",
    "\n",
    "Sample Array [0, 12, 45.21 ,34, 99.91]\n",
    "<br>C = (5*(F-32)) / 9"
   ]
  }
 ],
 "metadata": {
  "kernelspec": {
   "display_name": "Python 3",
   "language": "python",
   "name": "python3"
  },
  "language_info": {
   "codemirror_mode": {
    "name": "ipython",
    "version": 3
   },
   "file_extension": ".py",
   "mimetype": "text/x-python",
   "name": "python",
   "nbconvert_exporter": "python",
   "pygments_lexer": "ipython3",
   "version": "3.8.3"
  }
 },
 "nbformat": 4,
 "nbformat_minor": 4
}
