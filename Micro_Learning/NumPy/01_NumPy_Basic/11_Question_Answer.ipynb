{
 "cells": [
  {
   "cell_type": "markdown",
   "metadata": {},
   "source": [
    "# 11_Question_Answer"
   ]
  },
  {
   "cell_type": "markdown",
   "metadata": {},
   "source": [
    "Write a NumPy program to create an element-wise comparison (equal, equal within a tolerance) of given arrays."
   ]
  },
  {
   "cell_type": "code",
   "execution_count": 1,
   "metadata": {},
   "outputs": [],
   "source": [
    "import numpy as np"
   ]
  },
  {
   "cell_type": "code",
   "execution_count": 2,
   "metadata": {},
   "outputs": [],
   "source": [
    "first_array = np.array([34, 43, 124, -123, 77, 49, 97])\n",
    "second_array = np.array([34, 43, 124.01, -123, 77, 49, 97])\n",
    "third_array = np.array([34, 43, 124.001, -123, 77, 49, 97])\n",
    "fourth_array = np.array([34, 43, 124.000001, -123, 77, 49, 97])"
   ]
  },
  {
   "cell_type": "code",
   "execution_count": 3,
   "metadata": {},
   "outputs": [
    {
     "name": "stdout",
     "output_type": "stream",
     "text": [
      "[  34   43  124 -123   77   49   97]\n"
     ]
    }
   ],
   "source": [
    "print(first_array)"
   ]
  },
  {
   "cell_type": "code",
   "execution_count": 4,
   "metadata": {},
   "outputs": [
    {
     "name": "stdout",
     "output_type": "stream",
     "text": [
      "[  34.     43.    124.01 -123.     77.     49.     97.  ]\n"
     ]
    }
   ],
   "source": [
    "print(second_array)"
   ]
  },
  {
   "cell_type": "code",
   "execution_count": 5,
   "metadata": {},
   "outputs": [
    {
     "name": "stdout",
     "output_type": "stream",
     "text": [
      "[  34.      43.     124.001 -123.      77.      49.      97.   ]\n"
     ]
    }
   ],
   "source": [
    "print(third_array)"
   ]
  },
  {
   "cell_type": "code",
   "execution_count": 6,
   "metadata": {},
   "outputs": [
    {
     "name": "stdout",
     "output_type": "stream",
     "text": [
      "[  34.         43.        124.000001 -123.         77.         49.\n",
      "   97.      ]\n"
     ]
    }
   ],
   "source": [
    "print(fourth_array)"
   ]
  },
  {
   "cell_type": "code",
   "execution_count": 7,
   "metadata": {},
   "outputs": [
    {
     "name": "stdout",
     "output_type": "stream",
     "text": [
      "Comparison (first_array,second_array) - equal: [ True  True False  True  True  True  True]\n",
      "Comparison (first_array,third_array) - equal: [ True  True False  True  True  True  True]\n",
      "Comparison (first_array,fourth_array) - equal: [ True  True False  True  True  True  True]\n"
     ]
    }
   ],
   "source": [
    "print(\"Comparison (first_array,second_array) - equal:\", np.equal(first_array,second_array))\n",
    "print(\"Comparison (first_array,third_array) - equal:\", np.equal(first_array,third_array))\n",
    "print(\"Comparison (first_array,fourth_array) - equal:\", np.equal(first_array,fourth_array))"
   ]
  },
  {
   "cell_type": "code",
   "execution_count": 8,
   "metadata": {},
   "outputs": [
    {
     "name": "stdout",
     "output_type": "stream",
     "text": [
      "Comparison (first_array,second_array) - equal within a tolerance: False\n",
      "Comparison (first_array,third_array) - equal within a tolerance: True\n",
      "Comparison (first_array,fourth_array) - equal within a tolerance: True\n"
     ]
    }
   ],
   "source": [
    "print(\"Comparison (first_array,second_array) - equal within a tolerance:\", np.allclose(first_array,second_array))\n",
    "print(\"Comparison (first_array,third_array) - equal within a tolerance:\", np.allclose(first_array,third_array))\n",
    "print(\"Comparison (first_array,fourth_array) - equal within a tolerance:\", np.allclose(first_array,fourth_array))"
   ]
  }
 ],
 "metadata": {
  "kernelspec": {
   "display_name": "Python 3",
   "language": "python",
   "name": "python3"
  },
  "language_info": {
   "codemirror_mode": {
    "name": "ipython",
    "version": 3
   },
   "file_extension": ".py",
   "mimetype": "text/x-python",
   "name": "python",
   "nbconvert_exporter": "python",
   "pygments_lexer": "ipython3",
   "version": "3.8.3"
  }
 },
 "nbformat": 4,
 "nbformat_minor": 4
}
