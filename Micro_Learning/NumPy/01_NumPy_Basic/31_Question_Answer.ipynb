{
 "cells": [
  {
   "cell_type": "markdown",
   "metadata": {},
   "source": [
    "# 31_Question_Answer"
   ]
  },
  {
   "cell_type": "markdown",
   "metadata": {},
   "source": [
    "Write a NumPy program to create a 4x4x4 array filled with arbitrary values."
   ]
  },
  {
   "cell_type": "code",
   "execution_count": 1,
   "metadata": {},
   "outputs": [],
   "source": [
    "import numpy as np"
   ]
  },
  {
   "cell_type": "code",
   "execution_count": 2,
   "metadata": {},
   "outputs": [],
   "source": [
    "my_array = np.random.random((4,4,4))"
   ]
  },
  {
   "cell_type": "code",
   "execution_count": 3,
   "metadata": {},
   "outputs": [
    {
     "name": "stdout",
     "output_type": "stream",
     "text": [
      "[[[0.51082308 0.08670146 0.49089329 0.53043186]\n",
      "  [0.26023231 0.0360963  0.45780937 0.88181221]\n",
      "  [0.89758177 0.79506863 0.01928648 0.32084045]\n",
      "  [0.35625851 0.13039633 0.89478801 0.67181151]]\n",
      "\n",
      " [[0.62248433 0.2880162  0.62063292 0.10926569]\n",
      "  [0.5301451  0.47427382 0.58908055 0.54832619]\n",
      "  [0.92643675 0.56195891 0.55821894 0.11587826]\n",
      "  [0.57978822 0.64221854 0.42142165 0.8559716 ]]\n",
      "\n",
      " [[0.02107409 0.22656708 0.65371267 0.89770743]\n",
      "  [0.70778848 0.89460372 0.2858974  0.20323595]\n",
      "  [0.2146087  0.05823791 0.73892047 0.0404395 ]\n",
      "  [0.90253135 0.48836975 0.22491122 0.26443887]]\n",
      "\n",
      " [[0.75789041 0.25694394 0.25929951 0.44466769]\n",
      "  [0.90315218 0.63501601 0.94572003 0.68706172]\n",
      "  [0.34849309 0.64921103 0.33780247 0.1450438 ]\n",
      "  [0.70933057 0.68684355 0.3340745  0.33845873]]]\n"
     ]
    }
   ],
   "source": [
    "print(my_array_array)"
   ]
  },
  {
   "cell_type": "code",
   "execution_count": null,
   "metadata": {},
   "outputs": [],
   "source": []
  }
 ],
 "metadata": {
  "kernelspec": {
   "display_name": "Python 3",
   "language": "python",
   "name": "python3"
  },
  "language_info": {
   "codemirror_mode": {
    "name": "ipython",
    "version": 3
   },
   "file_extension": ".py",
   "mimetype": "text/x-python",
   "name": "python",
   "nbconvert_exporter": "python",
   "pygments_lexer": "ipython3",
   "version": "3.8.3"
  }
 },
 "nbformat": 4,
 "nbformat_minor": 4
}
