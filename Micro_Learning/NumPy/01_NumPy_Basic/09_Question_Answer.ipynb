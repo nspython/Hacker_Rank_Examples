{
 "cells": [
  {
   "cell_type": "markdown",
   "metadata": {},
   "source": [
    "# 09_Question_Answer"
   ]
  },
  {
   "cell_type": "markdown",
   "metadata": {},
   "source": [
    "Write a NumPy program to test whether two arrays are element-wise equal within a tolerance."
   ]
  },
  {
   "cell_type": "markdown",
   "metadata": {},
   "source": [
    "<br>- np.allclose(a, b, rtol=1e-05, atol=1e-08, equal_nan=False)\n",
    "\n",
    "<br>- The tolerance values are positive, typically very small numbers.  The relative difference (`rtol` * abs(`b`)) and the absolute difference `atol` are added together to compare against the absolute difference between `a` and `b`."
   ]
  },
  {
   "cell_type": "code",
   "execution_count": 1,
   "metadata": {},
   "outputs": [],
   "source": [
    "import numpy as np"
   ]
  },
  {
   "cell_type": "code",
   "execution_count": 2,
   "metadata": {},
   "outputs": [
    {
     "name": "stdout",
     "output_type": "stream",
     "text": [
      "Test if two arrays are element-wise equal within a tolerance: False\n",
      "Test if two arrays are element-wise equal within a tolerance: True\n",
      "Test if two arrays are element-wise equal within a tolerance: False\n",
      "Test if two arrays are element-wise equal within a tolerance: False\n"
     ]
    }
   ],
   "source": [
    "print(\"Test if two arrays are element-wise equal within a tolerance:\", np.allclose([1e10,1e-7], [1.00001e10,1e-8]))\n",
    "print(\"Test if two arrays are element-wise equal within a tolerance:\", np.allclose([1e10,1e-8], [1.00001e10,1e-9]))\n",
    "print(\"Test if two arrays are element-wise equal within a tolerance:\", np.allclose([1e10,1e-8], [1.0001e10,1e-9]))\n",
    "print(\"Test if two arrays are element-wise equal within a tolerance:\", np.allclose([1.0, np.nan], [1.0, np.nan]))"
   ]
  }
 ],
 "metadata": {
  "kernelspec": {
   "display_name": "Python 3",
   "language": "python",
   "name": "python3"
  },
  "language_info": {
   "codemirror_mode": {
    "name": "ipython",
    "version": 3
   },
   "file_extension": ".py",
   "mimetype": "text/x-python",
   "name": "python",
   "nbconvert_exporter": "python",
   "pygments_lexer": "ipython3",
   "version": "3.8.3"
  }
 },
 "nbformat": 4,
 "nbformat_minor": 4
}
