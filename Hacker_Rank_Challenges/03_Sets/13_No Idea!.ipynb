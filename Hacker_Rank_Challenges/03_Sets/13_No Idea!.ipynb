{
 "cells": [
  {
   "cell_type": "markdown",
   "metadata": {},
   "source": [
    "# No Idea!\n",
    "\n",
    "https://www.hackerrank.com/challenges/no-idea/problem"
   ]
  },
  {
   "cell_type": "code",
   "execution_count": 1,
   "metadata": {},
   "outputs": [
    {
     "name": "stdout",
     "output_type": "stream",
     "text": [
      "3 2\n",
      "1 5 3\n",
      "3 1\n",
      "5 7\n",
      "1\n"
     ]
    }
   ],
   "source": [
    "n, m = list(map(int,input().split()))\n",
    "\n",
    "n_list= input().split()\n",
    "\n",
    "A_list = set(input().split())\n",
    "B_list = set(input().split())\n",
    "\n",
    "happiness = 0\n",
    "for i in n_list:\n",
    "    if i in A_list:\n",
    "        happiness += 1\n",
    "    if i in B_list:\n",
    "        happiness -= 1\n",
    "print(happiness)"
   ]
  },
  {
   "cell_type": "code",
   "execution_count": null,
   "metadata": {
    "collapsed": true
   },
   "outputs": [],
   "source": []
  }
 ],
 "metadata": {
  "kernelspec": {
   "display_name": "Python 3",
   "language": "python",
   "name": "python3"
  },
  "language_info": {
   "codemirror_mode": {
    "name": "ipython",
    "version": 3
   },
   "file_extension": ".py",
   "mimetype": "text/x-python",
   "name": "python",
   "nbconvert_exporter": "python",
   "pygments_lexer": "ipython3",
   "version": "3.8.3"
  }
 },
 "nbformat": 4,
 "nbformat_minor": 2
}
