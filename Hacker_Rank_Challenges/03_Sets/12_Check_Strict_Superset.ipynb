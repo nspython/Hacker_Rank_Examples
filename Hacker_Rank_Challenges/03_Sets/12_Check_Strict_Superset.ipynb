{
 "cells": [
  {
   "cell_type": "markdown",
   "metadata": {},
   "source": [
    "# Check Strict Superset\n",
    "\n",
    "https://www.hackerrank.com/challenges/py-check-strict-superset/problem"
   ]
  },
  {
   "cell_type": "code",
   "execution_count": 1,
   "metadata": {},
   "outputs": [
    {
     "name": "stdout",
     "output_type": "stream",
     "text": [
      "1 2 3 4 5 6 7 8 9 10 11 12 23 45 84 78\n",
      "2\n",
      "1 2 3 4 5\n",
      "100 11 12\n",
      "False\n"
     ]
    }
   ],
   "source": [
    "setA,n_set = set(input().split()),int(input())\n",
    "\n",
    "counter = 0\n",
    "for i in range(n_set):\n",
    "    i_set = set(input().split())\n",
    "    if i_set.issubset(setA):\n",
    "        counter += 1\n",
    "\n",
    "print(True if counter == n_set else False)"
   ]
  },
  {
   "cell_type": "code",
   "execution_count": null,
   "metadata": {},
   "outputs": [],
   "source": []
  }
 ],
 "metadata": {
  "kernelspec": {
   "display_name": "Python 3",
   "language": "python",
   "name": "python3"
  },
  "language_info": {
   "codemirror_mode": {
    "name": "ipython",
    "version": 3
   },
   "file_extension": ".py",
   "mimetype": "text/x-python",
   "name": "python",
   "nbconvert_exporter": "python",
   "pygments_lexer": "ipython3",
   "version": "3.8.3"
  }
 },
 "nbformat": 4,
 "nbformat_minor": 4
}
